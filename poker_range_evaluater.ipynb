{
 "cells": [
  {
   "cell_type": "markdown",
   "metadata": {},
   "source": [
    "# Poker Range Evaluater"
   ]
  },
  {
   "cell_type": "code",
   "execution_count": 1,
   "metadata": {},
   "outputs": [],
   "source": [
    "%load_ext lab_black\n",
    "from itertools import product, combinations"
   ]
  },
  {
   "cell_type": "code",
   "execution_count": 2,
   "metadata": {},
   "outputs": [],
   "source": [
    "def enumerate_pairs(range_tag):\n",
    "    \"\"\"Range tag pairs enumeration\n",
    "    QQ+ -> all suits of QQ, KK and AA\n",
    "    \"\"\"\n",
    "\n",
    "    suits = [\"c\", \"h\", \"s\", \"d\"]\n",
    "    ranks = \"23456789TJQKA\"\n",
    "    up_ranks = list(ranks[ranks.find(range_tag[0]) :])\n",
    "\n",
    "    # suits combination\n",
    "    suits_comb = list(combinations(suits, 2))\n",
    "\n",
    "    # two cards combination\n",
    "    enumerated_pairs = [list(product(*list(i))) for i in product(up_ranks, suits_comb)]\n",
    "\n",
    "    return enumerated_pairs"
   ]
  },
  {
   "cell_type": "code",
   "execution_count": 3,
   "metadata": {},
   "outputs": [
    {
     "data": {
      "text/plain": [
       "[[('K', 'c'), ('K', 'h')],\n",
       " [('K', 'c'), ('K', 's')],\n",
       " [('K', 'c'), ('K', 'd')],\n",
       " [('K', 'h'), ('K', 's')],\n",
       " [('K', 'h'), ('K', 'd')],\n",
       " [('K', 's'), ('K', 'd')],\n",
       " [('A', 'c'), ('A', 'h')],\n",
       " [('A', 'c'), ('A', 's')],\n",
       " [('A', 'c'), ('A', 'd')],\n",
       " [('A', 'h'), ('A', 's')],\n",
       " [('A', 'h'), ('A', 'd')],\n",
       " [('A', 's'), ('A', 'd')]]"
      ]
     },
     "execution_count": 3,
     "metadata": {},
     "output_type": "execute_result"
    }
   ],
   "source": [
    "enumerate_pairs(\"KK+\")"
   ]
  },
  {
   "cell_type": "code",
   "execution_count": 4,
   "metadata": {},
   "outputs": [],
   "source": [
    "def enumerate_same_suits(range_tag):\n",
    "    \"\"\"Range tag same suits\n",
    "    K7s+ -> all same suits that start with an K on the first card,\n",
    "            all same suits that are larger than the number indicate on the second digit\n",
    "    \"\"\"\n",
    "    suits = [\"c\", \"h\", \"s\", \"d\"]\n",
    "    ranks = \"23456789TJQKA\"\n",
    "    up_ranks = list(ranks[ranks.find(range_tag[1]) : ranks.find(range_tag[0])])\n",
    "\n",
    "    # same suits combination\n",
    "    suits_comb = list(zip(suits, suits))\n",
    "\n",
    "    # ranks combination\n",
    "    ranks_comb = list(product(range_tag[0], up_ranks))\n",
    "\n",
    "    # enumerated pairs\n",
    "    enumerated_pairs = [\n",
    "        list(zip(*list(i))) for i in list(product(ranks_comb, suits_comb))\n",
    "    ]\n",
    "\n",
    "    return enumerated_pairs"
   ]
  },
  {
   "cell_type": "code",
   "execution_count": 5,
   "metadata": {},
   "outputs": [
    {
     "data": {
      "text/plain": [
       "[[('K', 'c'), ('7', 'c')],\n",
       " [('K', 'h'), ('7', 'h')],\n",
       " [('K', 's'), ('7', 's')],\n",
       " [('K', 'd'), ('7', 'd')],\n",
       " [('K', 'c'), ('8', 'c')],\n",
       " [('K', 'h'), ('8', 'h')],\n",
       " [('K', 's'), ('8', 's')],\n",
       " [('K', 'd'), ('8', 'd')],\n",
       " [('K', 'c'), ('9', 'c')],\n",
       " [('K', 'h'), ('9', 'h')],\n",
       " [('K', 's'), ('9', 's')],\n",
       " [('K', 'd'), ('9', 'd')],\n",
       " [('K', 'c'), ('T', 'c')],\n",
       " [('K', 'h'), ('T', 'h')],\n",
       " [('K', 's'), ('T', 's')],\n",
       " [('K', 'd'), ('T', 'd')],\n",
       " [('K', 'c'), ('J', 'c')],\n",
       " [('K', 'h'), ('J', 'h')],\n",
       " [('K', 's'), ('J', 's')],\n",
       " [('K', 'd'), ('J', 'd')],\n",
       " [('K', 'c'), ('Q', 'c')],\n",
       " [('K', 'h'), ('Q', 'h')],\n",
       " [('K', 's'), ('Q', 's')],\n",
       " [('K', 'd'), ('Q', 'd')]]"
      ]
     },
     "execution_count": 5,
     "metadata": {},
     "output_type": "execute_result"
    }
   ],
   "source": [
    "enumerate_same_suits(\"K7s+\")"
   ]
  },
  {
   "cell_type": "code",
   "execution_count": 6,
   "metadata": {},
   "outputs": [],
   "source": [
    "def enumerate_off_suits(range_tag):\n",
    "    \"\"\"Range tag off suits\n",
    "    K7s+ -> all same suits that start with an K on the first card,\n",
    "            all same suits that are larger than the number indicate on the second digit\n",
    "    \"\"\"\n",
    "    suits = [\"c\", \"h\", \"s\", \"d\"]\n",
    "    ranks = \"23456789TJQKA\"\n",
    "    up_ranks = list(ranks[ranks.find(range_tag[1]) : ranks.find(range_tag[0])])\n",
    "\n",
    "    # off suits combination\n",
    "    suits_comb = list(combinations(suits, 2))\n",
    "\n",
    "    # ranks combination\n",
    "    ranks_comb = list(product(range_tag[0], up_ranks))\n",
    "\n",
    "    # enumerated pairs\n",
    "    enumerated_pairs = [\n",
    "        list(zip(*list(i))) for i in list(product(ranks_comb, suits_comb))\n",
    "    ]\n",
    "\n",
    "    return enumerated_pairs"
   ]
  },
  {
   "cell_type": "code",
   "execution_count": 7,
   "metadata": {},
   "outputs": [
    {
     "data": {
      "text/plain": [
       "[[('K', 'c'), ('7', 'h')],\n",
       " [('K', 'c'), ('7', 's')],\n",
       " [('K', 'c'), ('7', 'd')],\n",
       " [('K', 'h'), ('7', 's')],\n",
       " [('K', 'h'), ('7', 'd')],\n",
       " [('K', 's'), ('7', 'd')],\n",
       " [('K', 'c'), ('8', 'h')],\n",
       " [('K', 'c'), ('8', 's')],\n",
       " [('K', 'c'), ('8', 'd')],\n",
       " [('K', 'h'), ('8', 's')],\n",
       " [('K', 'h'), ('8', 'd')],\n",
       " [('K', 's'), ('8', 'd')],\n",
       " [('K', 'c'), ('9', 'h')],\n",
       " [('K', 'c'), ('9', 's')],\n",
       " [('K', 'c'), ('9', 'd')],\n",
       " [('K', 'h'), ('9', 's')],\n",
       " [('K', 'h'), ('9', 'd')],\n",
       " [('K', 's'), ('9', 'd')],\n",
       " [('K', 'c'), ('T', 'h')],\n",
       " [('K', 'c'), ('T', 's')],\n",
       " [('K', 'c'), ('T', 'd')],\n",
       " [('K', 'h'), ('T', 's')],\n",
       " [('K', 'h'), ('T', 'd')],\n",
       " [('K', 's'), ('T', 'd')],\n",
       " [('K', 'c'), ('J', 'h')],\n",
       " [('K', 'c'), ('J', 's')],\n",
       " [('K', 'c'), ('J', 'd')],\n",
       " [('K', 'h'), ('J', 's')],\n",
       " [('K', 'h'), ('J', 'd')],\n",
       " [('K', 's'), ('J', 'd')],\n",
       " [('K', 'c'), ('Q', 'h')],\n",
       " [('K', 'c'), ('Q', 's')],\n",
       " [('K', 'c'), ('Q', 'd')],\n",
       " [('K', 'h'), ('Q', 's')],\n",
       " [('K', 'h'), ('Q', 'd')],\n",
       " [('K', 's'), ('Q', 'd')]]"
      ]
     },
     "execution_count": 7,
     "metadata": {},
     "output_type": "execute_result"
    }
   ],
   "source": [
    "enumerate_off_suits(\"K7o+\")"
   ]
  },
  {
   "cell_type": "code",
   "execution_count": 8,
   "metadata": {},
   "outputs": [],
   "source": [
    "def cards_permutation_from_tag(range_tag):\n",
    "    \"\"\"Generate all cards permutations that are greater than the range tag,\n",
    "    from 3 kinds of tags\n",
    "        XX+ -> pairs\n",
    "        XYs+ -> same suits\n",
    "        XYo+ ->\n",
    "    \"\"\"\n",
    "\n",
    "    if len(range_tag) == 3:\n",
    "        return enumerate_pairs(range_tag)\n",
    "    elif range_tag[2] == \"s\":\n",
    "        return enumerate_same_suits(range_tag)\n",
    "    else:\n",
    "        return enumerate_off_suits(range_tag)"
   ]
  },
  {
   "cell_type": "code",
   "execution_count": 9,
   "metadata": {},
   "outputs": [
    {
     "data": {
      "text/plain": [
       "[[('8', 'c'), ('6', 'h')],\n",
       " [('8', 'c'), ('6', 's')],\n",
       " [('8', 'c'), ('6', 'd')],\n",
       " [('8', 'h'), ('6', 's')],\n",
       " [('8', 'h'), ('6', 'd')],\n",
       " [('8', 's'), ('6', 'd')],\n",
       " [('8', 'c'), ('7', 'h')],\n",
       " [('8', 'c'), ('7', 's')],\n",
       " [('8', 'c'), ('7', 'd')],\n",
       " [('8', 'h'), ('7', 's')],\n",
       " [('8', 'h'), ('7', 'd')],\n",
       " [('8', 's'), ('7', 'd')]]"
      ]
     },
     "execution_count": 9,
     "metadata": {},
     "output_type": "execute_result"
    }
   ],
   "source": [
    "cards_permutation_from_tag(\"86o+\")"
   ]
  },
  {
   "cell_type": "code",
   "execution_count": 44,
   "metadata": {},
   "outputs": [],
   "source": [
    "def pairs_tag(hands):\n",
    "    \"\"\" Given a hands of pairs as a list, find the appropriate range tag\n",
    "        [(\"K\", \"c\"), (\"K\", \"h\")],\n",
    "        [(\"7\", \"c\"), (\"7\", \"s\")],\n",
    "        [(\"8\", \"c\"), (\"8\", \"d\")],\n",
    "        [(\"T\", \"h\"), (\"T\", \"s\")]\n",
    "\n",
    "        -> 77+\n",
    "    \"\"\"\n",
    "    ranks_map = {\n",
    "        \"2\": 2,\n",
    "        \"3\": 3,\n",
    "        \"4\": 4,\n",
    "        \"5\": 5,\n",
    "        \"6\": 6,\n",
    "        \"7\": 7,\n",
    "        \"8\": 8,\n",
    "        \"9\": 9,\n",
    "        \"T\": 10,\n",
    "        \"J\": 11,\n",
    "        \"Q\": 12,\n",
    "        \"K\": 13,\n",
    "        \"A\": 14,\n",
    "    }\n",
    "\n",
    "    ranks_inv_map = {ranks_map[k]: k for k in ranks_map}\n",
    "\n",
    "    ranks_num = [ranks_map[hand[0][0]] for hand in hands]\n",
    "    tag_prefix = ranks_inv_map[min(ranks_num)]\n",
    "    range_tag = \"{}{}+\".format(tag_prefix, tag_prefix)\n",
    "    return range_tag"
   ]
  },
  {
   "cell_type": "code",
   "execution_count": 48,
   "metadata": {},
   "outputs": [
    {
     "data": {
      "text/plain": [
       "'77+'"
      ]
     },
     "execution_count": 48,
     "metadata": {},
     "output_type": "execute_result"
    }
   ],
   "source": [
    "hands = [\n",
    "    [(\"K\", \"c\"), (\"K\", \"h\")],\n",
    "    [(\"7\", \"c\"), (\"7\", \"s\")],\n",
    "    [(\"8\", \"c\"), (\"8\", \"d\")],\n",
    "    [(\"T\", \"h\"), (\"T\", \"s\")],\n",
    "]\n",
    "pairs_tag(hands)"
   ]
  },
  {
   "cell_type": "code",
   "execution_count": 58,
   "metadata": {},
   "outputs": [],
   "source": [
    "def non_pairs_tag(hands, suits):\n",
    "\n",
    "    ranks_map = {\n",
    "        \"2\": 2,\n",
    "        \"3\": 3,\n",
    "        \"4\": 4,\n",
    "        \"5\": 5,\n",
    "        \"6\": 6,\n",
    "        \"7\": 7,\n",
    "        \"8\": 8,\n",
    "        \"9\": 9,\n",
    "        \"T\": 10,\n",
    "        \"J\": 11,\n",
    "        \"Q\": 12,\n",
    "        \"K\": 13,\n",
    "        \"A\": 14,\n",
    "    }\n",
    "\n",
    "    ranks_inv_map = {ranks_map[k]: k for k in ranks_map}\n",
    "\n",
    "    first_card_ranks_num = [ranks_map[hand[0][0]] for hand in hands]\n",
    "    second_card_ranks_num = [ranks_map[hand[1][0]] for hand in hands]\n",
    "\n",
    "    tag_1 = ranks_inv_map[min(first_card_ranks_num)]\n",
    "    tag_2 = ranks_inv_map[min(second_card_ranks_num)]\n",
    "    range_tag = \"{}{}{}+\".format(tag_1, tag_2, suits)\n",
    "    return range_tag"
   ]
  },
  {
   "cell_type": "code",
   "execution_count": 59,
   "metadata": {},
   "outputs": [
    {
     "data": {
      "text/plain": [
       "'T7s+'"
      ]
     },
     "execution_count": 59,
     "metadata": {},
     "output_type": "execute_result"
    }
   ],
   "source": [
    "hands = [\n",
    "    [(\"K\", \"c\"), (\"7\", \"c\")],\n",
    "    [(\"T\", \"h\"), (\"7\", \"h\")],\n",
    "    [(\"J\", \"s\"), (\"7\", \"s\")],\n",
    "    [(\"Q\", \"d\"), (\"7\", \"d\")],\n",
    "]\n",
    "non_pairs_tag(hands, \"s\")"
   ]
  },
  {
   "cell_type": "code",
   "execution_count": 57,
   "metadata": {},
   "outputs": [
    {
     "data": {
      "text/plain": [
       "'T7s+'"
      ]
     },
     "execution_count": 57,
     "metadata": {},
     "output_type": "execute_result"
    }
   ],
   "source": [
    "range_tag"
   ]
  },
  {
   "cell_type": "code",
   "execution_count": 79,
   "metadata": {},
   "outputs": [],
   "source": [
    "class PokerRanges:\n",
    "    def __init__(self):\n",
    "        self.suits = [\"c\", \"h\", \"s\", \"d\"]\n",
    "        self.ranks = \"23456789TJQKA\"\n",
    "        self.set_mapping()\n",
    "\n",
    "    def set_mapping(self):\n",
    "        \"\"\" set ranks and value mapping\"\"\"\n",
    "        self.ranks_map = {\n",
    "            \"2\": 2,\n",
    "            \"3\": 3,\n",
    "            \"4\": 4,\n",
    "            \"5\": 5,\n",
    "            \"6\": 6,\n",
    "            \"7\": 7,\n",
    "            \"8\": 8,\n",
    "            \"9\": 9,\n",
    "            \"T\": 10,\n",
    "            \"J\": 11,\n",
    "            \"Q\": 12,\n",
    "            \"K\": 13,\n",
    "            \"A\": 14,\n",
    "        }\n",
    "\n",
    "        self.ranks_inv_map = {self.ranks_map[k]: k for k in self.ranks_map}\n",
    "\n",
    "    def enumerate_pairs(self, range_tag):\n",
    "        \"\"\"Range tag pairs enumeration\n",
    "        QQ+ -> all suits of QQ, KK and AA\n",
    "        \"\"\"\n",
    "        if not range_tag:\n",
    "            return []\n",
    "\n",
    "        up_ranks = list(self.ranks[self.ranks.find(range_tag[0]) :])\n",
    "\n",
    "        # suits combination\n",
    "        suits_comb = list(combinations(self.suits, 2))\n",
    "\n",
    "        # two cards combination\n",
    "        enumerated_pairs = [\n",
    "            list(product(*list(i))) for i in product(up_ranks, suits_comb)\n",
    "        ]\n",
    "\n",
    "        return enumerated_pairs\n",
    "\n",
    "    def enumerate_same_suits(self, range_tag):\n",
    "        \"\"\"Range tag same suits\n",
    "        K7s+ -> all same suits that start with an K on the first card,\n",
    "                all same suits that are larger than the number indicate on the second digit\n",
    "        \"\"\"\n",
    "        if not range_tag:\n",
    "            return []\n",
    "\n",
    "        up_ranks = list(\n",
    "            self.ranks[self.ranks.find(range_tag[1]) : self.ranks.find(range_tag[0])]\n",
    "        )\n",
    "\n",
    "        # same suits combination\n",
    "        suits_comb = list(zip(self.suits, self.suits))\n",
    "\n",
    "        # ranks combination\n",
    "        ranks_comb = list(product(range_tag[0], up_ranks))\n",
    "\n",
    "        # enumerated pairs\n",
    "        enumerated_pairs = [\n",
    "            list(zip(*list(i))) for i in list(product(ranks_comb, suits_comb))\n",
    "        ]\n",
    "\n",
    "        return enumerated_pairs\n",
    "\n",
    "    def enumerate_off_suits(self, range_tag):\n",
    "        \"\"\"Range tag off suits\n",
    "        K7s+ -> all same suits that start with an K on the first card,\n",
    "                all same suits that are larger than the number indicate on the second digit\n",
    "        \"\"\"\n",
    "        if not range_tag:\n",
    "            return []\n",
    "\n",
    "        up_ranks = list(\n",
    "            self.ranks[self.ranks.find(range_tag[1]) : self.ranks.find(range_tag[0])]\n",
    "        )\n",
    "\n",
    "        # off suits combination\n",
    "        suits_comb = list(combinations(self.suits, 2))\n",
    "\n",
    "        # ranks combination\n",
    "        ranks_comb = list(product(range_tag[0], up_ranks))\n",
    "\n",
    "        # enumerated pairs\n",
    "        enumerated_pairs = [\n",
    "            list(zip(*list(i))) for i in list(product(ranks_comb, suits_comb))\n",
    "        ]\n",
    "\n",
    "        return enumerated_pairs\n",
    "\n",
    "    def cards_permutation_from_tag(self, range_tags):\n",
    "        \"\"\"Generate all cards permutations that are greater than the range tag,\n",
    "        from 3 kinds of tags\n",
    "            XX+ -> pairs\n",
    "            XYs+ -> same suits\n",
    "            XYo+ ->\n",
    "        \"\"\"\n",
    "        perms = []\n",
    "        for range_tag in range_tags:\n",
    "            if len(range_tag) == 3:\n",
    "                perms += self.enumerate_pairs(range_tag)\n",
    "            elif range_tag[2] == \"s\":\n",
    "                perms += self.enumerate_same_suits(range_tag)\n",
    "            else:\n",
    "                perms += self.enumerate_off_suits(range_tag)\n",
    "        return perms\n",
    "\n",
    "    def pairs_tag(self, hands):\n",
    "        \"\"\"Given a hands of pairs as a list, find the appropriate range tag\n",
    "        [(\"K\", \"c\"), (\"K\", \"h\")],\n",
    "        [(\"7\", \"c\"), (\"7\", \"s\")],\n",
    "        [(\"8\", \"c\"), (\"8\", \"d\")],\n",
    "        [(\"T\", \"h\"), (\"T\", \"s\")]\n",
    "\n",
    "        -> 77+\n",
    "\n",
    "        \"\"\"\n",
    "        if len(hands) < 1:\n",
    "            return []\n",
    "\n",
    "        ranks_num = [self.ranks_map[hand[0][0]] for hand in hands]\n",
    "        tag_prefix = self.ranks_inv_map[min(ranks_num)]\n",
    "        range_tag = \"{}{}+\".format(tag_prefix, tag_prefix)\n",
    "        return [range_tag]\n",
    "\n",
    "    def non_pairs_tag(self, hands, suits):\n",
    "        \"\"\"Given a hands of non-pairs and their suits, find the appropriate range tag\n",
    "\n",
    "        [(\"K\", \"c\"), (\"7\", \"c\")],\n",
    "        [(\"T\", \"h\"), (\"7\", \"h\")],\n",
    "        [(\"J\", \"s\"), (\"7\", \"s\")],\n",
    "        [(\"Q\", \"d\"), (\"7\", \"d\")],\n",
    "\n",
    "        -> T7s+\n",
    "        \"\"\"\n",
    "        if len(hands) < 1:\n",
    "            return []\n",
    "\n",
    "        first_card_ranks_num = [self.ranks_map[hand[0][0]] for hand in hands]\n",
    "        second_card_ranks_num = [self.ranks_map[hand[1][0]] for hand in hands]\n",
    "\n",
    "        tag_1 = self.ranks_inv_map[min(first_card_ranks_num)]\n",
    "        tag_2 = self.ranks_inv_map[min(second_card_ranks_num)]\n",
    "        range_tag = \"{}{}{}+\".format(tag_1, tag_2, suits)\n",
    "        return [range_tag]\n",
    "\n",
    "    def cards_to_range_tag(self, hands):\n",
    "        \"\"\" Generate the range tags a given hand \"\"\"\n",
    "        pairs = []\n",
    "        same_suits = []\n",
    "        off_suits = []\n",
    "\n",
    "        for hand in hands:\n",
    "            # move the high card to the leading position\n",
    "            if self.ranks_map[hand[0][0]] < self.ranks_map[hand[1][0]]:\n",
    "                hand[0], hand[1] = hand[1], hand[0]\n",
    "\n",
    "            # separate into three kinds of hands\n",
    "            if hand[0][0] == hand[1][0]:\n",
    "                pairs.append(hand)\n",
    "            elif hand[0][1] == hand[1][1]:\n",
    "                same_suits.append(hand)\n",
    "            else:\n",
    "                off_suits.append(hand)\n",
    "\n",
    "        return (\n",
    "            self.pairs_tag(pairs)\n",
    "            + self.non_pairs_tag(same_suits, \"s\")\n",
    "            + self.non_pairs_tag(off_suits, \"o\")\n",
    "        )"
   ]
  },
  {
   "cell_type": "code",
   "execution_count": 76,
   "metadata": {},
   "outputs": [],
   "source": [
    "hands = [\n",
    "    [(\"8\", \"c\"), (\"6\", \"c\")],\n",
    "    [(\"T\", \"c\"), (\"6\", \"h\")],\n",
    "    [(\"K\", \"s\"), (\"6\", \"s\")],\n",
    "    [(\"8\", \"d\"), (\"6\", \"d\")],\n",
    "    [(\"Q\", \"c\"), (\"8\", \"c\")],\n",
    "    [(\"8\", \"h\"), (\"K\", \"h\")],\n",
    "    [(\"8\", \"s\"), (\"8\", \"h\")],\n",
    "    [(\"7\", \"h\"), (\"7\", \"d\")],\n",
    "]"
   ]
  },
  {
   "cell_type": "code",
   "execution_count": 77,
   "metadata": {},
   "outputs": [
    {
     "data": {
      "text/plain": [
       "['77+', '86s+', 'T6o+']"
      ]
     },
     "execution_count": 77,
     "metadata": {},
     "output_type": "execute_result"
    }
   ],
   "source": [
    "PokerRanges().cards_to_range_tag(hands)"
   ]
  },
  {
   "cell_type": "code",
   "execution_count": 82,
   "metadata": {},
   "outputs": [
    {
     "data": {
      "text/plain": [
       "[[('8', 'c'), ('6', 'c')],\n",
       " [('8', 'h'), ('6', 'h')],\n",
       " [('8', 's'), ('6', 's')],\n",
       " [('8', 'd'), ('6', 'd')],\n",
       " [('8', 'c'), ('7', 'c')],\n",
       " [('8', 'h'), ('7', 'h')],\n",
       " [('8', 's'), ('7', 's')],\n",
       " [('8', 'd'), ('7', 'd')],\n",
       " [('K', 'c'), ('K', 'h')],\n",
       " [('K', 'c'), ('K', 's')],\n",
       " [('K', 'c'), ('K', 'd')],\n",
       " [('K', 'h'), ('K', 's')],\n",
       " [('K', 'h'), ('K', 'd')],\n",
       " [('K', 's'), ('K', 'd')],\n",
       " [('A', 'c'), ('A', 'h')],\n",
       " [('A', 'c'), ('A', 's')],\n",
       " [('A', 'c'), ('A', 'd')],\n",
       " [('A', 'h'), ('A', 's')],\n",
       " [('A', 'h'), ('A', 'd')],\n",
       " [('A', 's'), ('A', 'd')]]"
      ]
     },
     "execution_count": 82,
     "metadata": {},
     "output_type": "execute_result"
    }
   ],
   "source": [
    "PokerRanges().cards_permutation_from_tag([\"86s+\", \"KK+\"])"
   ]
  },
  {
   "cell_type": "code",
   "execution_count": null,
   "metadata": {},
   "outputs": [],
   "source": []
  }
 ],
 "metadata": {
  "kernelspec": {
   "display_name": "poker",
   "language": "python",
   "name": "poker"
  },
  "language_info": {
   "codemirror_mode": {
    "name": "ipython",
    "version": 3
   },
   "file_extension": ".py",
   "mimetype": "text/x-python",
   "name": "python",
   "nbconvert_exporter": "python",
   "pygments_lexer": "ipython3",
   "version": "3.8.5"
  }
 },
 "nbformat": 4,
 "nbformat_minor": 4
}
